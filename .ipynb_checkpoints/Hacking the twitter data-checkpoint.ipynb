{
 "metadata": {
  "name": "",
  "signature": "sha256:b9d2a02a956a32e281b142bd475837175ccb70d71e8c5cb009c1c961fbc501a0"
 },
 "nbformat": 3,
 "nbformat_minor": 0,
 "worksheets": []
}